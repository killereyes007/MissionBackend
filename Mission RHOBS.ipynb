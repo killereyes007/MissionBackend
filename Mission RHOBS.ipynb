{
 "cells": [
  {
   "cell_type": "markdown",
   "id": "f3198e36-7bd9-427d-af4a-ed4ee14bfc3d",
   "metadata": {},
   "source": [
    "### Mission RHOBS\n",
    "\n",
    "\n",
    "Description des colonnes :\n",
    "\n",
    "Colonne A : Identifiant de chaque personne (ID).\n",
    "\n",
    "Colonne B : Description détaillée de chaque personne.\n",
    "\n",
    "Colonne C : Prénom de chaque personne.\n",
    "\n",
    "Colonne D : Nom de famille de chaque personne.\n",
    "\n",
    "Colonne E : Richesse totale de chaque personne.\n",
    "\n",
    "Colonne F : Possible dette, indiquant une diminution de la richesse.\n",
    "\n",
    "Colonne G : Richesse nette.\n",
    "\n",
    "Ce code lit un fichier CSV en chunks, extrait les valeurs numériques de la colonne 'e' et les associe à des noms et prénoms de personnes à partir des colonnes 'c' et 'd'. Ensuite, il identifie les trois plus grandes valeurs de la colonne 'e' et imprime les noms et prénoms correspondants avec ces valeurs.\r\n",
    "\r\n",
    "Voici ce que fait chaque partie du code :\r\n",
    "\r\n",
    "1. La fonction `process_chunk` est chargée du traitement de chaque chunk de lignes du fichier CSV. Pour chaque ligne du chunk :\r\n",
    "   - Elle divise la ligne en colonnes en utilisant `strip().split(',')`.\r\n",
    "   - Elle vérifie si la ligne a au moins 5 colonnes et si la colonne 7 (index 6 en Python) est numérique.\r\n",
    "   - Elle extrait le nom et le prénom des personnes à partir des colonnes 'c' et 'd'.\r\n",
    "   - Elle construit une clé à partir des colonnes 'c' et 'd' et associe la valeur numérique de la colonne 'e' à cette clé dans le dictionnaire `key_values_pairs`. Si la clé n'existe pas ou si la nouvelle valeur est plus grande que la valeur existante, elle met à jour le dictionnaire.\r\n",
    "   \r\n",
    "2. La fonction `read_csv_chunks` lit le fichier CSV en chunks de taille spécifiée.\r\n",
    "   - Elle ouvre le fichier CSV en mode lectu next(file)`.\r\n",
    "   - Elle lit le fichier en chunks à l'aide de `islice` et les traite en parallèle à l'aide de `ThreadPoolExecutor`. Chaque chunk est traité par un thread distinct.\r\n",
    "   - Après avoir traité tous les chunks, elle récupère les trois plus grandes valeurs de la colonne 'e' avec les noms et prénoms correspondants et les imprime."
   ]
  },
  {
   "cell_type": "code",
   "execution_count": 5,
   "id": "f1511b33-3a11-41fe-9ce2-a238bcc80700",
   "metadata": {},
   "outputs": [
    {
     "name": "stdout",
     "output_type": "stream",
     "text": [
      "The three greatest values are:\n",
      "ZoÃ© Walliand: 893775958\n",
      "Gerard Parmentier: 892220563\n",
      "OcÃ©ane Urbain: 891910460\n"
     ]
    }
   ],
   "source": [
    "import concurrent.futures\n",
    "from itertools import islice\n",
    "\n",
    "def process_chunk(chunk, key_values_pairs):\n",
    "    for line in chunk:\n",
    "        columns = line.strip().split(',')\n",
    "        if len(columns) >= 5 and columns[6].replace('.', '', 1).isdigit():\n",
    "            key_s = columns[2] + columns[3]\n",
    "            valueur = int(columns[6])\n",
    "            name = columns[2]  # Nom de la personne\n",
    "            surname = columns[3]  # Prénom de la personne\n",
    "            if key_s not in key_values_pairs or key_values_pairs[key_s][0] < valueur:\n",
    "                key_values_pairs[key_s] = (valueur, name, surname)\n",
    "\n",
    "def read_csv_chunks(file_path, chunk_size):\n",
    "    key_values_pairs = {}\n",
    "    with open(file_path, 'r') as file:\n",
    "        next(file)  # Ignorer la première ligne\n",
    "        while True:\n",
    "            chunk = list(islice(file, chunk_size))\n",
    "            if not chunk:\n",
    "                break\n",
    "            with concurrent.futures.ThreadPoolExecutor() as executor:\n",
    "                executor.map(lambda c: process_chunk(c, key_values_pairs), [chunk])\n",
    "\n",
    "    # Récupérer les trois plus grandes valeurs et leurs noms\n",
    "    sorted_values = sorted(key_values_pairs.values(), key=lambda x: x[0], reverse=True)[:3]\n",
    "    print(\"The three greatest values are:\")\n",
    "    for value, name, surname in sorted_values:\n",
    "        print(f\"{name} {surname}: {value}\")\n",
    "\n",
    "file_path = \"test.csv\"\n",
    "chunk_size = 10000\n",
    "\n",
    "read_csv_chunks(file_path, chunk_size)\n"
   ]
  },
  {
   "cell_type": "code",
   "execution_count": null,
   "id": "19ee9ba7-ff16-4437-91a2-06a8be3b6b17",
   "metadata": {},
   "outputs": [],
   "source": []
  }
 ],
 "metadata": {
  "kernelspec": {
   "display_name": "Python 3 (ipykernel)",
   "language": "python",
   "name": "python3"
  },
  "language_info": {
   "codemirror_mode": {
    "name": "ipython",
    "version": 3
   },
   "file_extension": ".py",
   "mimetype": "text/x-python",
   "name": "python",
   "nbconvert_exporter": "python",
   "pygments_lexer": "ipython3",
   "version": "3.11.5"
  }
 },
 "nbformat": 4,
 "nbformat_minor": 5
}
