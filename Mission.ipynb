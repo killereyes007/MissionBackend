{
 "cells": [
  {
   "cell_type": "markdown",
   "id": "a47f3aea-a5da-4f28-a952-ca96e4a96fcd",
   "metadata": {},
   "source": [
    "### Mission RHOBS\n",
    "\n",
    "Ce code lit le fichier CSV en chunks et trouve les trois personnes les plus riches dans chaque chunk, puis parmi tous les chunks.\n",
    "La fonction `read_csv_chunks` prend en paramètres le chemin du fichier CSV et la taille du chunk, ensuite elle ouvre le fichier en mode lecture et itère sur chaque ligne.\n",
    "Pour chaque ligne, elle vérifie si elle a au moins 5 colonnes et si la colonne 'e' peut être convertie en nombre. Si ces conditions sont remplies, elle convertit la colonne 'e' en nombre, ajoute les colonnes au chunk actuel, et incrémente la taille du chunk. Lorsque la taille du chunk atteint la taille désirée, elle trouve les trois personnes les plus riches dans le chunk actuel, les ajoute à la liste des personnes les plus riches, puis réinitialise le chunk et la taille du chunk. Après avoir parcouru toutes les lignes, elle vérifie s'il reste des lignes dans le chunk actuel et trouve les trois personnes les plus riches dans le chunk restant, les ajoute à la liste des personnes les plus riches. Enfin, elle retourne la liste des personnes les plus riches. "
   ]
  },
  {
   "cell_type": "code",
   "execution_count": 17,
   "id": "cc9f7d2a-b77b-47df-8a7d-4281a1b08fd6",
   "metadata": {},
   "outputs": [
    {
     "name": "stdout",
     "output_type": "stream",
     "text": [
      "Les trois personnes les plus riches sont :\n",
      "OcÃ©ane Dupond 5000\n",
      "Martine Aubry 5000\n",
      "FranÃ§ois Barbier 5000\n"
     ]
    }
   ],
   "source": [
    "# Créez une fonction pour lire le fichier CSV en chunks\n",
    "def read_csv_chunks(file_path, chunk_size):\n",
    "    with open(file_path, 'r') as file:\n",
    "        next(file)\n",
    "        richest_people = []\n",
    "        current_chunk_size = 0\n",
    "        current_chunk = []\n",
    "        for line in file:\n",
    "            # Diviser la ligne en colonnes\n",
    "            columns = line.strip().split(',')\n",
    "            # Vérifier si la ligne a au moins 5 colonnes et si la colonne 'e' est numérique\n",
    "            if len(columns) >= 5 and columns[4].replace('.', '', 1).isdigit():\n",
    "                # Convertir la colonne 'e' en numérique\n",
    "                columns[4] = int(columns[4])\n",
    "                # Ajouter les colonnes au chunk actuel\n",
    "                current_chunk.append(columns)\n",
    "                current_chunk_size += 1\n",
    "                if current_chunk_size == chunk_size:\n",
    "                    # Trouver les trois personnes les plus riches dans le chunk actuel\n",
    "                    current_chunk_richest = sorted(current_chunk, key=lambda x: x[4], reverse=True)[:3]\n",
    "                    richest_people.extend(current_chunk_richest)\n",
    "                    # Réinitialiser le chunk actuel et la taille du chunk actuel\n",
    "                    current_chunk = []\n",
    "                    current_chunk_size = 0\n",
    "        if current_chunk:\n",
    "            # Trouver les trois personnes les plus riches dans le chunk restant\n",
    "            current_chunk_richest = sorted(current_chunk, key=lambda x: x[4], reverse=True)[:3]\n",
    "            richest_people.extend(current_chunk_richest)\n",
    "    return richest_people\n",
    "\n",
    "file_path = 'test.csv'\n",
    "chunk_size = 10000\n",
    "\n",
    "richest_people = read_csv_chunks(file_path, chunk_size)\n",
    "\n",
    "richest_people_top3 = sorted(richest_people, key=lambda x: x[4], reverse=True)[:3]\n",
    "\n",
    "# Afficher les trois personnes les plus riches\n",
    "print(\"Les trois personnes les plus riches sont :\")\n",
    "for person in richest_people_top3:\n",
    "    print(person[2], person[3], person[4])\n"
   ]
  },
  {
   "cell_type": "code",
   "execution_count": null,
   "id": "0c36c370-4cfc-4127-8137-66c22bd57f72",
   "metadata": {},
   "outputs": [],
   "source": []
  }
 ],
 "metadata": {
  "kernelspec": {
   "display_name": "Python 3 (ipykernel)",
   "language": "python",
   "name": "python3"
  },
  "language_info": {
   "codemirror_mode": {
    "name": "ipython",
    "version": 3
   },
   "file_extension": ".py",
   "mimetype": "text/x-python",
   "name": "python",
   "nbconvert_exporter": "python",
   "pygments_lexer": "ipython3",
   "version": "3.11.5"
  }
 },
 "nbformat": 4,
 "nbformat_minor": 5
}
